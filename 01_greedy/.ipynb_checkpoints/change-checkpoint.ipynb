{
 "cells": [
  {
   "cell_type": "markdown",
   "id": "35c2150c-2770-453f-bb75-a0f7faccc93d",
   "metadata": {},
   "source": [
    "## 💰 Problem: Change (Greedy)\n",
    "\n",
    "You are a cashier at a store. A customer pays with cash, and your job is to give them change using the minimum number of coins.\n",
    "\n",
    "### 🧾 Requirements:\n",
    "- You are given an integer `N` representing the amount of change (in Korean won).\n",
    "- The available coin denominations are:\n",
    "  - 500 won\n",
    "  - 100 won\n",
    "  - 50 won\n",
    "  - 10 won\n",
    "- The change amount `N` is always a multiple of 10.\n",
    "\n",
    "### 🎯 Objective:\n",
    "Write an algorithm to return the **minimum number of coins** needed to make the change.\n",
    "\n",
    "---\n",
    "\n",
    "### 🔢 Example\n",
    "\n",
    "**Input**"
   ]
  },
  {
   "cell_type": "markdown",
   "id": "0698f78d-4243-48cd-aca9-d0464e1c791d",
   "metadata": {},
   "source": [
    "1260"
   ]
  },
  {
   "cell_type": "markdown",
   "id": "6d431054-b04b-4eca-bc21-14d6e5ba9dbe",
   "metadata": {},
   "source": [
    "\n",
    "**Output**\n"
   ]
  },
  {
   "cell_type": "markdown",
   "id": "ed969fc9-4daf-4966-a023-f96c4f958861",
   "metadata": {},
   "source": [
    "\n",
    "**Explanation**\n",
    "- 500 × 2 = 1000\n",
    "- 100 × 2 = 200\n",
    "- 50 × 1 = 50\n",
    "- 10 × 1 = 10\n",
    "- Total = 6 coins\n"
   ]
  },
  {
   "cell_type": "code",
   "execution_count": 12,
   "id": "8553583f-a448-43b4-b9c0-77023d420758",
   "metadata": {},
   "outputs": [
    {
     "name": "stdin",
     "output_type": "stream",
     "text": [
      " 1260\n"
     ]
    }
   ],
   "source": [
    "n = int(input())"
   ]
  },
  {
   "cell_type": "code",
   "execution_count": 14,
   "id": "479cbd64-9edb-429c-b134-d136d6688dc2",
   "metadata": {},
   "outputs": [
    {
     "name": "stdout",
     "output_type": "stream",
     "text": [
      "minimum number of coins is 0\n"
     ]
    }
   ],
   "source": [
    "coin_types = [500, 100, 50, 10]\n",
    "count = 0\n",
    "\n",
    "for coin in coin_types:\n",
    "    count += n // coin\n",
    "    n %= coin\n",
    "\n",
    "print(f\"minimum number of coins is {count}\")\n"
   ]
  }
 ],
 "metadata": {
  "kernelspec": {
   "display_name": "Python 3 (ipykernel)",
   "language": "python",
   "name": "python3"
  },
  "language_info": {
   "codemirror_mode": {
    "name": "ipython",
    "version": 3
   },
   "file_extension": ".py",
   "mimetype": "text/x-python",
   "name": "python",
   "nbconvert_exporter": "python",
   "pygments_lexer": "ipython3",
   "version": "3.11.7"
  }
 },
 "nbformat": 4,
 "nbformat_minor": 5
}
