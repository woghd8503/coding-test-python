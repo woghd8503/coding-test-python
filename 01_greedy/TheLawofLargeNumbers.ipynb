{
 "cells": [
  {
   "cell_type": "markdown",
   "id": "7ca2f90a-e50d-4f24-9edc-e693a1b2a892",
   "metadata": {},
   "source": [
    "# 🧠 The Law of Large Numbers (Greedy Algorithm)\n",
    "\n",
    "## 📌 Problem Description\n",
    "\n",
    "You are given a list of integers and two integers **M** and **K**.  \n",
    "You can add numbers from the list exactly **M** times.  \n",
    "However, you **cannot add the same number more than K times in a row**.\n",
    "\n",
    "Your goal is to calculate the **maximum possible sum** by choosing numbers according to these rules.\n",
    "\n",
    "---\n",
    "\n",
    "## ✅ Input Format\n",
    "\n",
    "- The first line contains three integers:  \n",
    "  `N` (length of list), `M` (number of additions), `K` (max repetitions of the same number)\n",
    "\n",
    "- The second line contains `N` integers:  \n",
    "  the elements of the list\n",
    "\n"
   ]
  },
  {
   "cell_type": "code",
   "execution_count": null,
   "id": "05eb29e9-d814-44e8-b9b6-46aa6cc6121a",
   "metadata": {},
   "outputs": [],
   "source": []
  }
 ],
 "metadata": {
  "kernelspec": {
   "display_name": "Python 3 (ipykernel)",
   "language": "python",
   "name": "python3"
  },
  "language_info": {
   "codemirror_mode": {
    "name": "ipython",
    "version": 3
   },
   "file_extension": ".py",
   "mimetype": "text/x-python",
   "name": "python",
   "nbconvert_exporter": "python",
   "pygments_lexer": "ipython3",
   "version": "3.13.5"
  }
 },
 "nbformat": 4,
 "nbformat_minor": 5
}
