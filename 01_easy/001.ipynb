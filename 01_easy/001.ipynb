{
 "cells": [
  {
   "cell_type": "markdown",
   "id": "c55a784b-b660-4829-a8bb-5a49e46d6d96",
   "metadata": {},
   "source": [
    "## Problem\n",
    "\n",
    "Given two natural numbers N and M, write a grogram to print all sequences of lenth M that satisfy the following conditions:\n",
    "1. Each sequence consists of M distinct numbers chosen from 1 to N\n",
    "2. The numbers in each sequence mush be in ascending order."
   ]
  },
  {
   "cell_type": "markdown",
   "id": "0d79be96-0e55-4a26-948c-9baf6c2dc694",
   "metadata": {},
   "source": [
    "## Input\n",
    "The first lin contains two integers N and M (1 ≤ M ≤ N ≤ 8)."
   ]
  },
  {
   "cell_type": "markdown",
   "id": "93bccb38-3837-4195-9ba5-89a85ea3c3b5",
   "metadata": {},
   "source": [
    "## Output\n",
    "Print all sequences that satisfy the above conditions, one sequence per line.\n",
    "Each sequence must be printed in lexicographical (dictionary) order, and numbers in a sequence must be separated by spaces.\n",
    "Do not print duplicate sequences."
   ]
  },
  {
   "cell_type": "markdown",
   "id": "210c1b46-2c61-4872-a62a-4e00182833d2",
   "metadata": {},
   "source": [
    "Example Input 1\n",
    "```text\n",
    "3 1\n",
    "```\n",
    "\n",
    "Example Output 1\n",
    "\n",
    "```text\n",
    "1\n",
    "2\n",
    "3\n",
    "```\n",
    "\n"
   ]
  },
  {
   "cell_type": "markdown",
   "id": "c403eef9-1b61-4f7d-9302-08f4a3286727",
   "metadata": {},
   "source": [
    "Example Input 2\n",
    "```text\n",
    "4 2\n",
    "```\n",
    "\n",
    "Example Output 2\n",
    "```text\n",
    "1 2\n",
    "1 3\n",
    "1 4\n",
    "2 3\n",
    "2 4\n",
    "3 4\n",
    "```"
   ]
  },
  {
   "cell_type": "markdown",
   "id": "ff183e34-c92b-4036-86d0-bc26a0f79e59",
   "metadata": {},
   "source": [
    "Example Input 3\n",
    "```text\n",
    "4 4\n",
    "```\n",
    "\n",
    "Example Output 3\n",
    "```text\n",
    "1 2 3 4\n",
    "```\n"
   ]
  },
  {
   "cell_type": "code",
   "execution_count": 25,
   "id": "0e41fe6b-450d-4dcc-bd63-072b8d8d263e",
   "metadata": {},
   "outputs": [
    {
     "name": "stdin",
     "output_type": "stream",
     "text": [
      " 4 4\n"
     ]
    },
    {
     "name": "stdout",
     "output_type": "stream",
     "text": [
      "1 2 3 4\n"
     ]
    }
   ],
   "source": [
    "N, M = map(int, input().split())\n",
    "seq = []\n",
    "\n",
    "def backtrack(start):\n",
    "    if(len(seq) == M):\n",
    "        print(*seq)\n",
    "        return\n",
    "\n",
    "    for i in range(start, N + 1):\n",
    "        seq.append(i)\n",
    "        backtrack(i + 1)\n",
    "        seq.pop()\n",
    "\n",
    "backtrack(1)"
   ]
  },
  {
   "cell_type": "code",
   "execution_count": null,
   "id": "53631d77-a859-4342-9e9d-62826577d958",
   "metadata": {},
   "outputs": [],
   "source": []
  }
 ],
 "metadata": {
  "kernelspec": {
   "display_name": "Python 3 (ipykernel)",
   "language": "python",
   "name": "python3"
  },
  "language_info": {
   "codemirror_mode": {
    "name": "ipython",
    "version": 3
   },
   "file_extension": ".py",
   "mimetype": "text/x-python",
   "name": "python",
   "nbconvert_exporter": "python",
   "pygments_lexer": "ipython3",
   "version": "3.13.5"
  }
 },
 "nbformat": 4,
 "nbformat_minor": 5
}
