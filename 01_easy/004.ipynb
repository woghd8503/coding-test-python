{
 "cells": [
  {
   "cell_type": "markdown",
   "id": "6ab45793-33fa-4790-8e68-4ad861a7bffa",
   "metadata": {},
   "source": [
    "## Problem\n",
    "Given an integer `n`, write a program to find its **integer square root**.\n",
    "\n",
    "\n",
    "## Input\n",
    "The first line contains an integer `n`  \n",
    "where `0 ≤ n < 2^63`.\n",
    "\n",
    "\n",
    "## Output\n",
    "Print the smallest non-negative integer `q` such that:\n",
    "\n",
    "$$ q^2 \\geq n $$\n",
    "\n",
    "\n",
    "example input\n",
    "```\n",
    "122333444455555```\n",
    "\n",
    "examplte output\n",
    "```11060446```\n",
    "\n"
   ]
  },
  {
   "cell_type": "code",
   "execution_count": 2,
   "id": "ed0dd41d-3a5b-4ece-ac3a-39c1431cc4b8",
   "metadata": {},
   "outputs": [
    {
     "name": "stdin",
     "output_type": "stream",
     "text": [
      " 122333444455555\n"
     ]
    },
    {
     "name": "stdout",
     "output_type": "stream",
     "text": [
      "11060446\n"
     ]
    }
   ],
   "source": [
    "n = int(input())\n",
    "\n",
    "left, right = 0, n\n",
    "answer = n\n",
    "\n",
    "while left <= right:\n",
    "    mid = (left + right) // 2\n",
    "    if mid * mid >= n:\n",
    "        answer = mid\n",
    "        right = mid - 1   \n",
    "    else:\n",
    "        left = mid + 1    \n",
    "\n",
    "print(answer)"
   ]
  },
  {
   "cell_type": "code",
   "execution_count": null,
   "id": "eb9c6818-001f-4236-a66d-1374ca68609e",
   "metadata": {},
   "outputs": [],
   "source": []
  }
 ],
 "metadata": {
  "kernelspec": {
   "display_name": "Python 3 (ipykernel)",
   "language": "python",
   "name": "python3"
  },
  "language_info": {
   "codemirror_mode": {
    "name": "ipython",
    "version": 3
   },
   "file_extension": ".py",
   "mimetype": "text/x-python",
   "name": "python",
   "nbconvert_exporter": "python",
   "pygments_lexer": "ipython3",
   "version": "3.11.7"
  }
 },
 "nbformat": 4,
 "nbformat_minor": 5
}
