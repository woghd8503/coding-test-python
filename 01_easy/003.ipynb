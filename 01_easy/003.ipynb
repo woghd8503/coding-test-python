{
 "cells": [
  {
   "cell_type": "markdown",
   "id": "40e09118-0e35-442b-832d-9aeaa2a5f64c",
   "metadata": {},
   "source": [
    "## Problem\n",
    "Chunhyang works at a convenience store counter.\n",
    "\n",
    "A customer asks to receive change using only 2-won and 5-won coins.  \n",
    "There is an unlimited supply of both types of coins.  \n",
    "Your task is to give change using the **minimum number of coins possible**.\n",
    "\n",
    "Given the amount of change `n`, write a program to calculate the minimum number of coins needed.\n",
    "\n",
    "For example:\n",
    "\n",
    "- If `n = 15`, you should give three 5-won coins.\n",
    "- If `n = 14`, you should give two 5-won coins and two 2-won coins (4 coins total).\n",
    "- If `n = 13`, you should give one 5-won coin and four 2-won coins (5 coins total).\n",
    "\n",
    "\n",
    "\n",
    "## Input\n",
    "\n",
    "The first line contains an integer `n` (1 ≤ n ≤ 100,000) — the amount of change.\n",
    "\n",
    "\n",
    "## Output\n",
    "\n",
    "Print the minimum number of coins needed.  \n",
    "If it is impossible to give the exact amount using 2-won and 5-won coins, print `-1`.\n",
    "\n",
    "\n",
    "Example Input 1\n",
    "```\n",
    "13\n",
    "```"
   ]
  },
  {
   "cell_type": "markdown",
   "id": "f71fa2d8-6eee-4c5a-b105-ad4e7b679d9e",
   "metadata": {},
   "source": [
    "Example Output 1\n",
    "```\n",
    "5\n",
    "```\n"
   ]
  },
  {
   "cell_type": "markdown",
   "id": "ca59c7bb-469e-4879-8ee7-14872f7dc4c8",
   "metadata": {},
   "source": [
    "Example Input 2\n",
    "```\n",
    "14\n",
    "```"
   ]
  },
  {
   "cell_type": "markdown",
   "id": "a468f4ef-9de2-4e50-926d-8c7b63b509e4",
   "metadata": {},
   "source": [
    "Example Output 2\n",
    "```\n",
    "4\n",
    "```"
   ]
  },
  {
   "cell_type": "code",
   "execution_count": 3,
   "id": "3453f5ae-5677-4116-be13-779ff849b1c7",
   "metadata": {},
   "outputs": [
    {
     "name": "stdin",
     "output_type": "stream",
     "text": [
      " 14\n"
     ]
    },
    {
     "name": "stdout",
     "output_type": "stream",
     "text": [
      "4\n"
     ]
    }
   ],
   "source": [
    "n = int(input())\n",
    "\n",
    "if n in (1, 3):\n",
    "    print(-1)\n",
    "else:\n",
    "    count = n // 5\n",
    "    remain = n % 5\n",
    "\n",
    "    while remain % 2 != 0 and count > 0:\n",
    "        count -= 1\n",
    "        remain += 5\n",
    "\n",
    "    if remain % 2 != 0:\n",
    "        print(-1)\n",
    "    else:\n",
    "        count += remain // 2\n",
    "        print(count)\n"
   ]
  },
  {
   "cell_type": "code",
   "execution_count": null,
   "id": "423d4798-ae42-4d77-bec1-c0dfaa02128f",
   "metadata": {},
   "outputs": [],
   "source": []
  }
 ],
 "metadata": {
  "kernelspec": {
   "display_name": "Python 3 (ipykernel)",
   "language": "python",
   "name": "python3"
  },
  "language_info": {
   "codemirror_mode": {
    "name": "ipython",
    "version": 3
   },
   "file_extension": ".py",
   "mimetype": "text/x-python",
   "name": "python",
   "nbconvert_exporter": "python",
   "pygments_lexer": "ipython3",
   "version": "3.11.7"
  }
 },
 "nbformat": 4,
 "nbformat_minor": 5
}
