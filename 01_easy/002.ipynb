{
 "cells": [
  {
   "cell_type": "markdown",
   "id": "1ed020a5-205a-4741-8dc6-1827c7214884",
   "metadata": {},
   "source": [
    "## Problem\n",
    "Farmer John's farm was flooded in the most recent storm, a fact only aggravated by the information that his cows are deathly afraid of water. His insurance agency will only repay him, however, an amount depending on the size of the largest \"lake\" on his farm.\n",
    "\n",
    "The farm is represented as a rectangular grid with N (1 ≤ N ≤ 100) rows and M (1 ≤ M ≤ 100) columns. Each cell in the grid is either dry or submerged, and exactly K (1 ≤ K ≤ N×M) of the cells are submerged. As one would expect, a lake has a central cell to which other cells connect by sharing a long edge (not a corner). Any cell that shares a long edge with the central cell or shares a long edge with any connected cell becomes a connected cell and is part of the lake."
   ]
  },
  {
   "cell_type": "markdown",
   "id": "5695bdf1-4b1d-4e55-b80b-82587eae4401",
   "metadata": {},
   "source": [
    "## Input\n",
    "- Line 1: Three space-separated integers: N, M, and K \n",
    "- Lines 2..K+1: Line i+1 describes one submerged location with two space separated integers that are its row and column: R and C"
   ]
  },
  {
   "cell_type": "markdown",
   "id": "6652555c-6c9e-4893-b1cc-5a18b8f222af",
   "metadata": {},
   "source": [
    "## Output\n",
    "- Line 1: The number of cells that the largest lake contains.\n",
    "\n",
    "Example Input\n",
    "```\n",
    "3 4 5\n",
    "3 2\n",
    "2 2\n",
    "3 1\n",
    "2 3\n",
    "1 1\n",
    "```\n",
    "\n",
    "Example Output\n",
    "```\n",
    "4\n",
    "```"
   ]
  },
  {
   "cell_type": "code",
   "execution_count": 10,
   "id": "8e7201d5-d7f8-4a52-b323-31bf8a084129",
   "metadata": {},
   "outputs": [
    {
     "name": "stdin",
     "output_type": "stream",
     "text": [
      " 3 4 5\n",
      " 3 2\n",
      " 2 2\n",
      " 3 1\n",
      " 2 3\n",
      " 1 1\n"
     ]
    },
    {
     "name": "stdout",
     "output_type": "stream",
     "text": [
      "4\n"
     ]
    }
   ],
   "source": [
    "from collections import deque\n",
    "\n",
    "N, M, K = map(int, input().split())\n",
    "\n",
    "water = set()\n",
    "for _ in range(K):\n",
    "    r, c = map(int, input().split())\n",
    "    water.add((r-1, c-1))  # 0-based 좌표로 저장\n",
    "\n",
    "dirs = [(-1, 0), (1, 0), (0, -1), (0, 1)]\n",
    "\n",
    "answer = 0\n",
    "\n",
    "while water:\n",
    "    start = water.pop()\n",
    "    q = deque([start])\n",
    "    size = 1\n",
    "\n",
    "    while q:\n",
    "        x, y = q.popleft()\n",
    "        for dx, dy in dirs:\n",
    "            nx, ny = x + dx, y + dy\n",
    "            if (nx, ny) in water:\n",
    "                water.remove((nx, ny))\n",
    "                q.append((nx, ny))\n",
    "                size += 1\n",
    "\n",
    "    answer = max(answer, size)\n",
    "\n",
    "print(answer)"
   ]
  },
  {
   "cell_type": "code",
   "execution_count": null,
   "id": "476912ec-8007-4889-9d46-75cb0920d527",
   "metadata": {},
   "outputs": [],
   "source": []
  }
 ],
 "metadata": {
  "kernelspec": {
   "display_name": "Python 3 (ipykernel)",
   "language": "python",
   "name": "python3"
  },
  "language_info": {
   "codemirror_mode": {
    "name": "ipython",
    "version": 3
   },
   "file_extension": ".py",
   "mimetype": "text/x-python",
   "name": "python",
   "nbconvert_exporter": "python",
   "pygments_lexer": "ipython3",
   "version": "3.13.5"
  }
 },
 "nbformat": 4,
 "nbformat_minor": 5
}
