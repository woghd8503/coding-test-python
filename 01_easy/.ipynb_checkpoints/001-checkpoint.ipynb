{
 "cells": [
  {
   "cell_type": "markdown",
   "id": "c55a784b-b660-4829-a8bb-5a49e46d6d96",
   "metadata": {},
   "source": [
    "## Problem\n",
    "\n",
    "Given two natural numbers N and M, write a grogram to print all sequences of lenth M that satisfy the following conditions:\n",
    "1. Each sequence consists of M distinct numbers chosen from 1 to N\n",
    "2. The numbers in each sequence mush be in ascending order."
   ]
  },
  {
   "cell_type": "markdown",
   "id": "0d79be96-0e55-4a26-948c-9baf6c2dc694",
   "metadata": {},
   "source": [
    "## Input\n",
    "The first lin contains two integers N and M (1 ≤ M ≤ N ≤ 8)."
   ]
  },
  {
   "cell_type": "markdown",
   "id": "93bccb38-3837-4195-9ba5-89a85ea3c3b5",
   "metadata": {},
   "source": [
    "## Output\n",
    "Print all sequences that satisfy the above conditions, one sequence per line.\n",
    "Each sequence must be printed in lexicographical (dictionary) order, and numbers in a sequence must be separated by spaces.\n",
    "Do not print duplicate sequences."
   ]
  }
 ],
 "metadata": {
  "kernelspec": {
   "display_name": "Python 3 (ipykernel)",
   "language": "python",
   "name": "python3"
  },
  "language_info": {
   "codemirror_mode": {
    "name": "ipython",
    "version": 3
   },
   "file_extension": ".py",
   "mimetype": "text/x-python",
   "name": "python",
   "nbconvert_exporter": "python",
   "pygments_lexer": "ipython3",
   "version": "3.13.5"
  }
 },
 "nbformat": 4,
 "nbformat_minor": 5
}
